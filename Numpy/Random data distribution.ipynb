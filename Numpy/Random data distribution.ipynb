{
 "cells": [
  {
   "cell_type": "code",
   "execution_count": 1,
   "metadata": {},
   "outputs": [],
   "source": [
    "from numpy import random\n"
   ]
  },
  {
   "cell_type": "code",
   "execution_count": 4,
   "metadata": {},
   "outputs": [
    {
     "data": {
      "text/plain": [
       "array([3, 1, 1, 1, 3, 1, 3, 1, 3, 2, 2, 2, 2, 3, 2, 2, 3, 2, 3, 3, 2, 3,\n",
       "       3, 2, 2, 3, 1, 3, 3, 3, 3, 3, 2, 1, 3, 3, 2, 1, 3, 2, 3, 2, 3, 2,\n",
       "       2, 2, 2, 2, 3, 1, 1, 3, 2, 3, 3, 3, 2, 3, 3, 3, 2, 3, 2, 3, 3, 1,\n",
       "       3, 1, 3, 1, 2, 2, 2, 2, 1, 2, 2, 3, 2, 3, 2, 3, 2, 2, 2, 3, 3, 1,\n",
       "       2, 2, 3, 1, 2, 1, 2, 3, 2, 3, 3, 3])"
      ]
     },
     "execution_count": 4,
     "metadata": {},
     "output_type": "execute_result"
    }
   ],
   "source": [
    "x = random.choice([1,2,3,4],p=[0.1,0.5,0.4,0.0],size = (100))\n",
    "x"
   ]
  },
  {
   "cell_type": "code",
   "execution_count": null,
   "metadata": {},
   "outputs": [],
   "source": []
  }
 ],
 "metadata": {
  "kernelspec": {
   "display_name": "vicas",
   "language": "python",
   "name": "python3"
  },
  "language_info": {
   "codemirror_mode": {
    "name": "ipython",
    "version": 3
   },
   "file_extension": ".py",
   "mimetype": "text/x-python",
   "name": "python",
   "nbconvert_exporter": "python",
   "pygments_lexer": "ipython3",
   "version": "3.9.0"
  },
  "orig_nbformat": 4,
  "vscode": {
   "interpreter": {
    "hash": "f65aad3e48041db69901df7f1e2b9ce0794fdad27bc4771e30fdb8b50b5fdf2c"
   }
  }
 },
 "nbformat": 4,
 "nbformat_minor": 2
}
