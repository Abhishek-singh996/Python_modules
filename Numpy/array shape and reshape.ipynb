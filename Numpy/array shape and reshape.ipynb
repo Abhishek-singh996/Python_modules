{
 "cells": [
  {
   "cell_type": "code",
   "execution_count": 1,
   "metadata": {},
   "outputs": [],
   "source": [
    "import numpy as np"
   ]
  },
  {
   "cell_type": "code",
   "execution_count": 2,
   "metadata": {},
   "outputs": [
    {
     "data": {
      "text/plain": [
       "(2, 3)"
      ]
     },
     "execution_count": 2,
     "metadata": {},
     "output_type": "execute_result"
    }
   ],
   "source": [
    "arr = np.array(((1,2,3),(4,5,6)))\n",
    "arr.shape\n"
   ]
  },
  {
   "cell_type": "code",
   "execution_count": 7,
   "metadata": {},
   "outputs": [
    {
     "name": "stdout",
     "output_type": "stream",
     "text": [
      "[[[[[1 2 3 4 5]]]]]\n"
     ]
    },
    {
     "data": {
      "text/plain": [
       "(1, 1, 1, 1, 5)"
      ]
     },
     "execution_count": 7,
     "metadata": {},
     "output_type": "execute_result"
    }
   ],
   "source": [
    "arr_1 = np.array((1,2,3,4,5),ndmin=5)\n",
    "print(arr_1)\n",
    "arr_1.shape"
   ]
  },
  {
   "cell_type": "code",
   "execution_count": 20,
   "metadata": {},
   "outputs": [
    {
     "data": {
      "text/plain": [
       "array([[[ 1,  2],\n",
       "        [ 3,  4],\n",
       "        [ 5,  6]],\n",
       "\n",
       "       [[ 7,  8],\n",
       "        [ 9, 10],\n",
       "        [11, 12]]])"
      ]
     },
     "execution_count": 20,
     "metadata": {},
     "output_type": "execute_result"
    }
   ],
   "source": [
    "arr_2 = np.array((1,2,3,4,5,6,7,8,9,10,11,12))\n",
    "newArr = arr_2.reshape(2,3,2)\n",
    "newArr"
   ]
  },
  {
   "cell_type": "code",
   "execution_count": 27,
   "metadata": {},
   "outputs": [
    {
     "name": "stdout",
     "output_type": "stream",
     "text": [
      "(2, 3)\n",
      "(6,)\n"
     ]
    }
   ],
   "source": [
    "## Flattening the arrays-----> means cobvert any dimension array into 1-D array\n",
    "arr = np.array([[1, 2, 3], [4, 5, 6]])\n",
    "\n",
    "print(arr.shape)\n",
    "\n",
    "newarr = arr.reshape(-1)\n",
    "\n",
    "print(newarr.shape)"
   ]
  },
  {
   "cell_type": "code",
   "execution_count": null,
   "metadata": {},
   "outputs": [],
   "source": []
  }
 ],
 "metadata": {
  "kernelspec": {
   "display_name": "vicas",
   "language": "python",
   "name": "python3"
  },
  "language_info": {
   "codemirror_mode": {
    "name": "ipython",
    "version": 3
   },
   "file_extension": ".py",
   "mimetype": "text/x-python",
   "name": "python",
   "nbconvert_exporter": "python",
   "pygments_lexer": "ipython3",
   "version": "3.9.0"
  },
  "orig_nbformat": 4,
  "vscode": {
   "interpreter": {
    "hash": "f65aad3e48041db69901df7f1e2b9ce0794fdad27bc4771e30fdb8b50b5fdf2c"
   }
  }
 },
 "nbformat": 4,
 "nbformat_minor": 2
}
